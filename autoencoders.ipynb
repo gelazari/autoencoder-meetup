{
 "cells": [
  {
   "cell_type": "markdown",
   "metadata": {},
   "source": [
    "# Autoencoders\n",
    "\n",
    "## Seoul AI Meetup, July 8\n",
    "\n",
    "Martin Kersner, <m.kersner@gmail.com>"
   ]
  },
  {
   "cell_type": "markdown",
   "metadata": {
    "slideshow": {
     "slide_type": "slide"
    }
   },
   "source": [
    "Structure of this presentation is largely based on chapter *15: Autoencoders* from book [Hands-On Machine Learning with Scikit-Learn & Tensorflow](http://shop.oreilly.com/product/0636920052289.do). Some examples are modified version of https://github.com/ageron/handson-ml."
   ]
  },
  {
   "cell_type": "code",
   "execution_count": 39,
   "metadata": {
    "slideshow": {
     "slide_type": "skip"
    }
   },
   "outputs": [],
   "source": [
    "%matplotlib inline\n",
    "import matplotlib\n",
    "import matplotlib.pyplot as plt\n",
    "plt.rcParams['axes.labelsize'] = 14\n",
    "plt.rcParams['xtick.labelsize'] = 12\n",
    "plt.rcParams['ytick.labelsize'] = 12"
   ]
  },
  {
   "cell_type": "markdown",
   "metadata": {
    "slideshow": {
     "slide_type": "slide"
    }
   },
   "source": [
    "### Content\n",
    "1. Efficient Data Representation\n",
    "1. Principal Component Analysis (PCA)\n",
    "1. t-SNE\n",
    "1. Stacked Autoencoders\n",
    "1. Unsupervised Pretraining Using Stacked Autoencoders\n",
    "1. Denoising Autoencoders\n",
    "1. Sparse Autoencoders\n",
    "1. Variational Autoencoders\n",
    "1. Other Autoencoders"
   ]
  },
  {
   "cell_type": "markdown",
   "metadata": {
    "slideshow": {
     "slide_type": "slide"
    }
   },
   "source": [
    "## Efficient Data Representation\n",
    "\n",
    "* Number sequences\n",
    "    * 56, 46, 8, 56, 7, 6, 8, 52,... \n",
    "    * 5, 16, 8, 4, 2, 1, 4, 2, 1,..."
   ]
  },
  {
   "cell_type": "markdown",
   "metadata": {
    "slideshow": {
     "slide_type": "subslide"
    }
   },
   "source": [
    "* Lower Data Dimensionality\n",
    "  * Reduced computational cost\n",
    "  * Easier to train ([Curse of dimensionality](https://en.wikipedia.org/wiki/Curse_of_dimensionality))\n",
    "  * Easier to visualize (ND -> 3D or ND -> 2D)\n",
    "* [Factor Analysis](https://en.wikipedia.org/wiki/Factor_analysis), [Independent Component Analysis](https://en.wikipedia.org/wiki/Independent_component_analysis)"
   ]
  },
  {
   "cell_type": "markdown",
   "metadata": {
    "slideshow": {
     "slide_type": "slide"
    }
   },
   "source": [
    "## Principal Component Analysis\n",
    "\n",
    "* For unlabeled data\n",
    "* Transformation from original coordinate system to the new one\n",
    "* Orthogonal linear transformation\n",
    "* Used for dimensionality reduction\n",
    "* Principal components represent directions along which the data has the largest variations\n",
    "* [sklearn.decomposition.PCA](http://scikit-learn.org/stable/modules/generated/sklearn.decomposition.PCA.html)"
   ]
  },
  {
   "cell_type": "markdown",
   "metadata": {
    "slideshow": {
     "slide_type": "subslide"
    }
   },
   "source": [
    "### Yale Face Database\n",
    "http://vision.ucsd.edu/content/yale-face-database\n",
    "\n",
    "* 15 people\n",
    "* 11 images per subject one per different facial expression or configuration\n",
    "* (center-light w/glasses, happy, left-light, w/no glasses, normal, right-light, sad, sleepy, surprised, and wink)\n",
    "\n",
    "<img src=\"https://raw.githubusercontent.com/martinkersner/autoencoder-meetup/master/files/yale-faces.png\" />"
   ]
  },
  {
   "cell_type": "markdown",
   "metadata": {
    "slideshow": {
     "slide_type": "subslide"
    }
   },
   "source": [
    "### PCA applied on Yale Face Database\n",
    "https://github.com/martinkersner/seoul-artificial-intelligence-meetup/blob/master/eigen-fisher-faces/eigen-faces.ipynb\n",
    "\n",
    "<img src=\"https://raw.githubusercontent.com/martinkersner/autoencoder-meetup/master/files/yale-pca.png\" />"
   ]
  },
  {
   "cell_type": "code",
   "execution_count": 1,
   "metadata": {
    "slideshow": {
     "slide_type": "subslide"
    }
   },
   "outputs": [
    {
     "name": "stdout",
     "output_type": "stream",
     "text": [
      "[ 0.99244289  0.00755711]\n"
     ]
    }
   ],
   "source": [
    "# scikit-learn: Principal Component Analysis\n",
    "import numpy as np\n",
    "from sklearn.decomposition import PCA\n",
    "\n",
    "X = np.array([[-1, -1], [-2, -1], [-3, -2], [1, 1], [2, 1], [3, 2]])\n",
    "pca = PCA(n_components=2)\n",
    "pca.fit(X)\n",
    "\n",
    "print(pca.explained_variance_ratio_)"
   ]
  },
  {
   "cell_type": "markdown",
   "metadata": {
    "slideshow": {
     "slide_type": "slide"
    }
   },
   "source": [
    "## Autoencoders\n",
    "\n",
    "* Artificial Neural Networks\n",
    "* Same architecture as Multi-Layer Perceptron\n",
    "* Number of input neurons = Number of output neuronw\n",
    "* Trained to efficiently encode (**codings**) input information\n",
    "\n",
    "\n",
    "* Purposes\n",
    "  * Decrease dimensionality\n",
    "  * Feature detectors (unsupervised pretraining for deep neural networks)\n",
    "  * Randomly generate new data"
   ]
  },
  {
   "cell_type": "markdown",
   "metadata": {
    "slideshow": {
     "slide_type": "subslide"
    }
   },
   "source": [
    "* Encoder (Recognition network)\n",
    "* Decoder (Generative network)\n",
    " \n",
    " <img src=\"https://inspirehep.net/record/1252540/files/autoencoder.png\" />\n",
    " Example of **undercomplete** autoencoder."
   ]
  },
  {
   "cell_type": "markdown",
   "metadata": {},
   "source": [
    "## Autoencoder as PCA\n",
    "\n",
    "* Linear activations\n",
    "* Cost function Mean Squared Error"
   ]
  },
  {
   "cell_type": "code",
   "execution_count": 52,
   "metadata": {
    "slideshow": {
     "slide_type": "skip"
    }
   },
   "outputs": [],
   "source": [
    "# source: https://github.com/ageron/handson-ml\n",
    "import numpy.random as rnd\n",
    "\n",
    "rnd.seed(4)\n",
    "m = 200\n",
    "w1, w2 = 0.1, 0.3\n",
    "noise = 0.1\n",
    "\n",
    "angles = rnd.rand(m) * 3 * np.pi / 2 - 0.5\n",
    "data = np.empty((m, 3))\n",
    "data[:, 0] = np.cos(angles) + np.sin(angles)/2 + noise * rnd.randn(m) / 2\n",
    "data[:, 1] = np.sin(angles) * 0.7 + noise * rnd.randn(m) / 2\n",
    "data[:, 2] = data[:, 0] * w1 + data[:, 1] * w2 + noise * rnd.randn(m)\n",
    "\n",
    "from sklearn.preprocessing import StandardScaler\n",
    "scaler = StandardScaler()\n",
    "X_train = scaler.fit_transform(data[:100])\n",
    "X_test = scaler.transform(data[100:])\n",
    "\n",
    "def reset_graph(seed=42):\n",
    "    tf.reset_default_graph()\n",
    "    tf.set_random_seed(seed)\n",
    "    np.random.seed(seed)\n",
    "\n",
    "def plot_codings(codings):\n",
    "    fig = plt.figure(figsize=(4,3))\n",
    "    plt.plot(codings[:,0], codings[:, 1], \"b.\")\n",
    "    plt.xlabel(\"$z_1$\", fontsize=18)\n",
    "    plt.ylabel(\"$z_2$\", fontsize=18, rotation=0)\n",
    "    plt.show()\n",
    "    \n",
    "def plot_two_codings(codings1, codings2):\n",
    "    plt.rcParams['axes.labelsize'] = 28\n",
    "    plt.figure(1, figsize=(12, 6))\n",
    "    \n",
    "    plt.subplot(121)\n",
    "    plt.plot(codings1[:,0], codings1[:, 1], \"b.\")\n",
    "    plt.xlabel(\"$z_1$\", fontsize=18)\n",
    "    plt.ylabel(\"$z_2$\", fontsize=18, rotation=0)\n",
    "    plt.se\n",
    "    \n",
    "    plt.subplot(122)\n",
    "    plt.plot(codings2[:,0], codings2[:, 1], \"b.\")\n",
    "    plt.xlabel(\"$z_1$\", fontsize=18)\n",
    "    plt.ylabel(\"$z_2$\", fontsize=18, rotation=0)\n",
    "    \n",
    "    plt.show()"
   ]
  },
  {
   "cell_type": "code",
   "execution_count": 21,
   "metadata": {},
   "outputs": [],
   "source": [
    "# PCA\n",
    "pca = PCA(n_components=2)\n",
    "pca.fit(X_train)\n",
    "pca_codings = pca.transform(X_test)"
   ]
  },
  {
   "cell_type": "code",
   "execution_count": 29,
   "metadata": {
    "scrolled": true
   },
   "outputs": [
    {
     "data": {
      "image/png": "[encoded data removed]",
      "text/plain": [
       "<matplotlib.figure.Figure at 0x7f4223316240>"
      ]
     },
     "metadata": {},
     "output_type": "display_data"
    }
   ],
   "source": [
    "# Encodings created using PCA\n",
    "plot_codings(pca_codings)"
   ]
  },
  {
   "cell_type": "code",
   "execution_count": 25,
   "metadata": {},
   "outputs": [],
   "source": [
    "# source: https://github.com/ageron/handson-ml\n",
    "import tensorflow as tf\n",
    "\n",
    "reset_graph()\n",
    "\n",
    "n_inputs = 3\n",
    "n_hidden = 2  # codings\n",
    "n_outputs = n_inputs\n",
    "\n",
    "learning_rate = 0.01\n",
    "\n",
    "X = tf.placeholder(tf.float32, shape=[None, n_inputs])\n",
    "hidden = tf.layers.dense(X, n_hidden)\n",
    "outputs = tf.layers.dense(hidden, n_outputs)\n",
    "\n",
    "reconstruction_loss = tf.reduce_mean(tf.square(outputs - X))\n",
    "\n",
    "optimizer = tf.train.AdamOptimizer(learning_rate)\n",
    "training_op = optimizer.minimize(reconstruction_loss)\n",
    "\n",
    "init = tf.global_variables_initializer()\n",
    "\n",
    "n_iterations = 50000\n",
    "codings = hidden\n",
    "\n",
    "with tf.Session() as sess:\n",
    "    init.run()\n",
    "    for iteration in range(n_iterations):\n",
    "        training_op.run(feed_dict={X: X_train})\n",
    "    codings_val = codings.eval(feed_dict={X: X_test})"
   ]
  },
  {
   "cell_type": "code",
   "execution_count": 53,
   "metadata": {},
   "outputs": [
    {
     "data": {
      "image/png": "[encoded data removed]",
      "text/plain": [
       "<matplotlib.figure.Figure at 0x7f42220782b0>"
      ]
     },
     "metadata": {},
     "output_type": "display_data"
    }
   ],
   "source": [
    "plot_two_codings(pca_codings, codings_val)"
   ]
  },
  {
   "cell_type": "markdown",
   "metadata": {
    "slideshow": {
     "slide_type": "slide"
    }
   },
   "source": [
    "## Variational Autoencoders"
   ]
  }
 ],
 "metadata": {
  "celltoolbar": "Slideshow",
  "kernelspec": {
   "display_name": "Python 3",
   "language": "python",
   "name": "python3"
  },
  "language_info": {
   "codemirror_mode": {
    "name": "ipython",
    "version": 3
   },
   "file_extension": ".py",
   "mimetype": "text/x-python",
   "name": "python",
   "nbconvert_exporter": "python",
   "pygments_lexer": "ipython3",
   "version": "3.5.2"
  }
 },
 "nbformat": 4,
 "nbformat_minor": 2
}
