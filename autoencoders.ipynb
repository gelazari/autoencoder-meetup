{
 "cells": [
  {
   "cell_type": "markdown",
   "metadata": {
    "slideshow": {
     "slide_type": "slide"
    }
   },
   "source": [
    "# Autoencoders\n",
    "\n",
    "## Seoul AI Meetup, July 8\n",
    "\n",
    "Martin Kersner, <m.kersner@gmail.com>"
   ]
  },
  {
   "cell_type": "markdown",
   "metadata": {
    "slideshow": {
     "slide_type": "slide"
    }
   },
   "source": [
    "Visualized training of Multilayer Perceptron (https://www.mladdict.com/).\n",
    "\n",
    "<center><img src=\"http://i.imgur.com/ouFuJEW.png\" /></center>"
   ]
  },
  {
   "cell_type": "markdown",
   "metadata": {
    "slideshow": {
     "slide_type": "slide"
    }
   },
   "source": [
    "Structure of this presentation is largely based on chapter *15: Autoencoders* from book [Hands-On Machine Learning with Scikit-Learn & Tensorflow](http://shop.oreilly.com/product/0636920052289.do).\n",
    "\n",
    "Some examples are modified version of https://github.com/ageron/handson-ml."
   ]
  },
  {
   "cell_type": "code",
   "execution_count": 1,
   "metadata": {
    "slideshow": {
     "slide_type": "skip"
    }
   },
   "outputs": [],
   "source": [
    "%matplotlib inline\n",
    "\n",
    "import numpy as np\n",
    "import tensorflow as tf\n",
    "\n",
    "import matplotlib\n",
    "import matplotlib.pyplot as plt\n",
    "plt.rcParams['axes.labelsize'] = 14\n",
    "plt.rcParams['xtick.labelsize'] = 12\n",
    "plt.rcParams['ytick.labelsize'] = 12"
   ]
  },
  {
   "cell_type": "markdown",
   "metadata": {
    "slideshow": {
     "slide_type": "slide"
    }
   },
   "source": [
    "### Content\n",
    "1. Efficient Data Representation\n",
    "1. Principal Component Analysis (PCA)\n",
    "1. Stacked Autoencoders\n",
    "    1. Denoising Autoencoders\n",
    "    1. Sparse Autoencoders\n",
    "    1. Variational Autoencoders\n",
    "    1. Other Autoencoders"
   ]
  },
  {
   "cell_type": "markdown",
   "metadata": {
    "slideshow": {
     "slide_type": "slide"
    }
   },
   "source": [
    "## Efficient Data Representation\n",
    "\n",
    "* Number sequences\n",
    "    * 56, 46, 8, 56, 7, 6, 8, 52,... \n",
    "    * 5, 16, 8, 4, 2, 1, 4, 2, 1,..."
   ]
  },
  {
   "cell_type": "markdown",
   "metadata": {
    "slideshow": {
     "slide_type": "subslide"
    }
   },
   "source": [
    "* Lower Data Dimensionality\n",
    "  * Reduced computational cost\n",
    "  * Easier to train ([Curse of dimensionality](https://en.wikipedia.org/wiki/Curse_of_dimensionality))\n",
    "  * Easier to visualize\n",
    "      * *N*D -> 3D\n",
    "      * *N*D -> 2D\n",
    "* Information retrieval tasks\n",
    "    * Semantic hashing\n",
    "* Other methods\n",
    "    * [Factor Analysis](https://en.wikipedia.org/wiki/Factor_analysis)\n",
    "    * [Independent Component Analysis](https://en.wikipedia.org/wiki/Independent_component_analysis)\n",
    "    * [t-SNE](https://en.wikipedia.org/wiki/T-distributed_stochastic_neighbor_embedding)"
   ]
  },
  {
   "cell_type": "markdown",
   "metadata": {
    "slideshow": {
     "slide_type": "slide"
    }
   },
   "source": [
    "## Principal Component Analysis\n",
    "\n",
    "* For unlabeled data\n",
    "* Transformation from original coordinate system to the new one\n",
    "* Orthogonal linear transformation\n",
    "* Used for dimensionality reduction\n",
    "* Principal components represent directions along which the data has the largest variations\n",
    "* [sklearn.decomposition.PCA](http://scikit-learn.org/stable/modules/generated/sklearn.decomposition.PCA.html)"
   ]
  },
  {
   "cell_type": "markdown",
   "metadata": {
    "slideshow": {
     "slide_type": "subslide"
    }
   },
   "source": [
    "### [Yale Face Database](http://vision.ucsd.edu/content/yale-face-database)\n",
    "\n",
    "* 15 people\n",
    "* 11 images per subject one per different facial expression or configuration\n",
    "* (center-light w/glasses, happy, left-light, w/no glasses, normal, right-light, sad, sleepy, surprised, and wink)\n",
    "\n",
    "<img src=\"https://raw.githubusercontent.com/martinkersner/autoencoder-meetup/master/files/yale-faces.png\" style=\"width: 30%; height: 30%; margin-left: auto; margin-right: auto; \"/>"
   ]
  },
  {
   "cell_type": "markdown",
   "metadata": {
    "slideshow": {
     "slide_type": "subslide"
    }
   },
   "source": [
    "### Eigenfaces ([Jupyter Notebook](https://github.com/martinkersner/seoul-artificial-intelligence-meetup/blob/master/eigen-fisher-faces/eigen-faces.ipynb))\n",
    "\n",
    "<img src=\"https://raw.githubusercontent.com/martinkersner/autoencoder-meetup/master/files/yale-pca.png\"  style=\"width: 40%; height: 40%; margin-left: auto; margin-right: auto; \" />"
   ]
  },
  {
   "cell_type": "code",
   "execution_count": 2,
   "metadata": {
    "slideshow": {
     "slide_type": "subslide"
    }
   },
   "outputs": [
    {
     "name": "stdout",
     "output_type": "stream",
     "text": [
      "[ 0.99244289  0.00755711]\n"
     ]
    }
   ],
   "source": [
    "# scikit-learn: Principal Component Analysis\n",
    "import numpy as np\n",
    "from sklearn.decomposition import PCA\n",
    "\n",
    "X = np.array([[-1, -1], [-2, -1], [-3, -2], [1, 1], [2, 1], [3, 2]])\n",
    "pca = PCA(n_components=2)\n",
    "pca.fit(X)\n",
    "\n",
    "print(pca.explained_variance_ratio_)"
   ]
  },
  {
   "cell_type": "markdown",
   "metadata": {
    "slideshow": {
     "slide_type": "slide"
    }
   },
   "source": [
    "## Autoencoders\n",
    "\n",
    "* Artificial Neural Networks\n",
    "* Same architecture as Multi-Layer Perceptron\n",
    "* Number of input neurons = Number of output neurons\n",
    "* Trained to efficiently encode (**codings**) input information\n",
    "\n",
    "\n",
    "* Purposes\n",
    "  * Decrease dimensionality\n",
    "  * Feature detectors (unsupervised pretraining for deep neural networks)\n",
    "  * Randomly generate new data"
   ]
  },
  {
   "cell_type": "markdown",
   "metadata": {
    "slideshow": {
     "slide_type": "subslide"
    }
   },
   "source": [
    "* **Encoder** (Recognition network)\n",
    "* **Decoder** (Generative network)\n",
    " \n",
    " <center><img src=\"https://i.stack.imgur.com/aziW7.png\" /><center>\n",
    " \n",
    " Example of **undercomplete** autoencoder."
   ]
  },
  {
   "cell_type": "code",
   "execution_count": 3,
   "metadata": {
    "slideshow": {
     "slide_type": "skip"
    }
   },
   "outputs": [],
   "source": [
    "# source: https://github.com/ageron/handson-ml\n",
    "import numpy.random as rnd\n",
    "\n",
    "rnd.seed(4)\n",
    "m = 200\n",
    "w1, w2 = 0.1, 0.3\n",
    "noise = 0.1\n",
    "\n",
    "angles = rnd.rand(m) * 3 * np.pi / 2 - 0.5\n",
    "data = np.empty((m, 3))\n",
    "data[:, 0] = np.cos(angles) + np.sin(angles)/2 + noise * rnd.randn(m) / 2\n",
    "data[:, 1] = np.sin(angles) * 0.7 + noise * rnd.randn(m) / 2\n",
    "data[:, 2] = data[:, 0] * w1 + data[:, 1] * w2 + noise * rnd.randn(m)\n",
    "\n",
    "from sklearn.preprocessing import StandardScaler\n",
    "scaler = StandardScaler()\n",
    "X_train = scaler.fit_transform(data[:100])\n",
    "X_test = scaler.transform(data[100:])\n",
    "\n",
    "def reset_graph(seed=42):\n",
    "    tf.reset_default_graph()\n",
    "    tf.set_random_seed(seed)\n",
    "    np.random.seed(seed)\n",
    "\n",
    "def plot_coding(codings):\n",
    "    fig = plt.figure(figsize=(4,3))\n",
    "    plt.plot(codings[:,0], codings[:, 1], \"b.\")\n",
    "    plt.xlabel(\"$z_1$\", fontsize=18)\n",
    "    plt.ylabel(\"$z_2$\", fontsize=18, rotation=0)\n",
    "    plt.show()\n",
    "    \n",
    "def plot_codings(codings1, codings2):\n",
    "    plt.rcParams['axes.labelsize'] = 28\n",
    "    plt.figure(1, figsize=(12, 6))\n",
    "    \n",
    "    plt.subplot(121)\n",
    "    plt.plot(codings1[:,0], codings1[:, 1], \"b.\")\n",
    "    plt.xlabel(\"$z_1$\", fontsize=18)\n",
    "    plt.ylabel(\"$z_2$\", fontsize=18, rotation=0)\n",
    "    plt.title(\"PCA\")\n",
    "    \n",
    "    plt.subplot(122)\n",
    "    plt.plot(codings2[:,0], codings2[:, 1], \"b.\")\n",
    "    plt.xlabel(\"$z_1$\", fontsize=18)\n",
    "    plt.ylabel(\"$z_2$\", fontsize=18, rotation=0)\n",
    "    plt.title(\"Autoencoder\")\n",
    "    \n",
    "    plt.show()\n",
    "\n",
    "def plot_many_codings(codings_lst):\n",
    "    plt.rcParams['axes.labelsize'] = 20\n",
    "    plt.figure(1, figsize=(20, 8))\n",
    "    \n",
    "    rows = 2\n",
    "    cols = 5\n",
    "    \n",
    "    pos = 1\n",
    "    for idx in range(0, len(codings_lst)):\n",
    "        if pos > rows*cols:\n",
    "            break\n",
    "        \n",
    "        codings = codings_lst[idx]\n",
    "        \n",
    "        plt.subplot(rows, cols, pos)\n",
    "        plt.plot(codings[:,0], codings[:, 1], \"b.\")\n",
    "        plt.xlabel(\"$z_1$\", fontsize=14)\n",
    "        plt.ylabel(\"$z_2$\", fontsize=14, rotation=0)\n",
    "        \n",
    "        pos += 1\n",
    "    \n",
    "    plt.show()"
   ]
  },
  {
   "cell_type": "markdown",
   "metadata": {
    "slideshow": {
     "slide_type": "slide"
    }
   },
   "source": [
    "## Autoencoder as PCA\n",
    "\n",
    "* Linear activations\n",
    "* Cost function Mean Squared Error"
   ]
  },
  {
   "cell_type": "code",
   "execution_count": 4,
   "metadata": {
    "slideshow": {
     "slide_type": "fragment"
    }
   },
   "outputs": [
    {
     "data": {
      "image/png": "[encoded data removed]",
      "text/plain": [
       "<matplotlib.figure.Figure at 0x7fd30be710b8>"
      ]
     },
     "metadata": {},
     "output_type": "display_data"
    }
   ],
   "source": [
    "# PCA\n",
    "pca = PCA(n_components=2)\n",
    "pca.fit(X_train)\n",
    "pca_codings = pca.transform(X_test)\n",
    "\n",
    "# Encodings created using PCA\n",
    "plot_coding(pca_codings)"
   ]
  },
  {
   "cell_type": "code",
   "execution_count": 5,
   "metadata": {
    "slideshow": {
     "slide_type": "skip"
    }
   },
   "outputs": [],
   "source": [
    "# source: https://github.com/ageron/handson-ml\n",
    "import tensorflow as tf\n",
    "\n",
    "reset_graph()\n",
    "\n",
    "n_inputs = 3\n",
    "n_hidden = 2  # codings\n",
    "n_outputs = n_inputs\n",
    "\n",
    "learning_rate = 0.01\n",
    "\n",
    "X = tf.placeholder(tf.float32, shape=[None, n_inputs])\n",
    "hidden = tf.layers.dense(X, n_hidden)\n",
    "outputs = tf.layers.dense(hidden, n_outputs)\n",
    "\n",
    "reconstruction_loss = tf.reduce_mean(tf.square(outputs - X))\n",
    "\n",
    "optimizer = tf.train.AdamOptimizer(learning_rate)\n",
    "training_op = optimizer.minimize(reconstruction_loss)\n",
    "\n",
    "init = tf.global_variables_initializer()\n",
    "\n",
    "n_iterations = 50000\n",
    "codings = hidden\n",
    "\n",
    "codings_val_progress = []\n",
    "\n",
    "with tf.Session() as sess:\n",
    "    init.run()\n",
    "    for iteration in range(n_iterations):\n",
    "        training_op.run(feed_dict={X: X_train})\n",
    "        if (iteration % 5000) == 0:\n",
    "            codings_val_progress.append(codings.eval(feed_dict={X: X_test}))\n",
    "            \n",
    "    codings_val = codings.eval(feed_dict={X: X_test})"
   ]
  },
  {
   "cell_type": "markdown",
   "metadata": {
    "slideshow": {
     "slide_type": "slide"
    }
   },
   "source": [
    "## Autoencoder Temporary Results"
   ]
  },
  {
   "cell_type": "code",
   "execution_count": 6,
   "metadata": {
    "scrolled": false,
    "slideshow": {
     "slide_type": "-"
    }
   },
   "outputs": [
    {
     "data": {
      "image/png": "[encoded data removed]",
      "text/plain": [
       "<matplotlib.figure.Figure at 0x7fd33c4fdba8>"
      ]
     },
     "metadata": {},
     "output_type": "display_data"
    }
   ],
   "source": [
    "plot_many_codings(codings_val_progress)"
   ]
  },
  {
   "cell_type": "markdown",
   "metadata": {
    "slideshow": {
     "slide_type": "slide"
    }
   },
   "source": [
    "## PCA vs Autoencoder"
   ]
  },
  {
   "cell_type": "code",
   "execution_count": 7,
   "metadata": {
    "scrolled": false,
    "slideshow": {
     "slide_type": "-"
    }
   },
   "outputs": [
    {
     "data": {
      "image/png": "[encoded data removed]",
      "text/plain": [
       "<matplotlib.figure.Figure at 0x7fd33c3eb7b8>"
      ]
     },
     "metadata": {},
     "output_type": "display_data"
    }
   ],
   "source": [
    "plot_codings(pca_codings, codings_val)"
   ]
  },
  {
   "cell_type": "markdown",
   "metadata": {
    "slideshow": {
     "slide_type": "slide"
    }
   },
   "source": [
    "## [sklearn.preprocessing.StandardScaler](http://scikit-learn.org/stable/modules/generated/sklearn.preprocessing.StandardScaler.html)"
   ]
  },
  {
   "cell_type": "code",
   "execution_count": 8,
   "metadata": {
    "slideshow": {
     "slide_type": "-"
    }
   },
   "outputs": [
    {
     "data": {
      "image/png": "[encoded data removed]",
      "text/plain": [
       "<matplotlib.figure.Figure at 0x7fd33c128128>"
      ]
     },
     "metadata": {},
     "output_type": "display_data"
    }
   ],
   "source": [
    "scaler1 = StandardScaler()\n",
    "pca_norm = scaler.fit_transform(pca_codings)\n",
    "scaler2 = StandardScaler()\n",
    "autoencoder_norm = scaler.fit_transform(codings_val)\n",
    "plot_codings(pca_norm, autoencoder_norm)"
   ]
  },
  {
   "cell_type": "markdown",
   "metadata": {
    "slideshow": {
     "slide_type": "slide"
    }
   },
   "source": [
    "## [sklearn.preprocessing.normalize](http://scikit-learn.org/stable/modules/generated/sklearn.preprocessing.normalize.html)"
   ]
  },
  {
   "cell_type": "code",
   "execution_count": 9,
   "metadata": {
    "slideshow": {
     "slide_type": "-"
    }
   },
   "outputs": [
    {
     "data": {
      "image/png": "[encoded data removed]",
      "text/plain": [
       "<matplotlib.figure.Figure at 0x7fd33c128358>"
      ]
     },
     "metadata": {},
     "output_type": "display_data"
    }
   ],
   "source": [
    "from sklearn.preprocessing import normalize\n",
    "\n",
    "pca_norm = normalize(pca_codings)\n",
    "autoencoder_norm = normalize(codings_val)\n",
    "plot_codings(pca_norm, autoencoder_norm)"
   ]
  },
  {
   "cell_type": "markdown",
   "metadata": {
    "slideshow": {
     "slide_type": "slide"
    }
   },
   "source": [
    "## Stacked Autoencoders\n",
    "\n",
    "* Multiple hidden layers => Stacked Autoencoders, Deep Autoencoders\n",
    "* Learn more complex codings\n",
    "* Typically symmetrical architecture"
   ]
  },
  {
   "cell_type": "markdown",
   "metadata": {
    "slideshow": {
     "slide_type": "-"
    }
   },
   "source": [
    "<center><img src=\"https://inspirehep.net/record/1252540/files/autoencoder.png\" /></center>"
   ]
  },
  {
   "cell_type": "code",
   "execution_count": 10,
   "metadata": {
    "slideshow": {
     "slide_type": "skip"
    }
   },
   "outputs": [
    {
     "name": "stdout",
     "output_type": "stream",
     "text": [
      "Extracting /tmp/data/train-images-idx3-ubyte.gz\n",
      "Extracting /tmp/data/train-labels-idx1-ubyte.gz\n",
      "Extracting /tmp/data/t10k-images-idx3-ubyte.gz\n",
      "Extracting /tmp/data/t10k-labels-idx1-ubyte.gz\n"
     ]
    }
   ],
   "source": [
    "# source: https://github.com/ageron/handson-ml\n",
    "# load MNIST\n",
    "from tensorflow.examples.tutorials.mnist import input_data\n",
    "mnist = input_data.read_data_sets(\"/tmp/data/\")\n",
    "\n",
    "def plot_image(image, shape=[28, 28]):\n",
    "    plt.imshow(image.reshape(shape), cmap=\"Greys\", interpolation=\"nearest\")\n",
    "    plt.axis(\"off\")\n",
    "\n",
    "def show_reconstructed_digits(X, outputs, model_path = \"./my_model_all_layers.ckpt\", n_test_digits = 2):\n",
    "    with tf.Session() as sess:\n",
    "        if model_path:\n",
    "            saver.restore(sess, model_path)\n",
    "        X_test = mnist.test.images[:n_test_digits]\n",
    "        outputs_val = outputs.eval(feed_dict={X: X_test})\n",
    "\n",
    "    fig = plt.figure(figsize=(8, 3 * n_test_digits))\n",
    "    for digit_index in range(n_test_digits):\n",
    "        plt.subplot(n_test_digits, 2, digit_index * 2 + 1)\n",
    "        plot_image(X_test[digit_index])\n",
    "        plt.subplot(n_test_digits, 2, digit_index * 2 + 2)\n",
    "        plot_image(outputs_val[digit_index])\n",
    "\n",
    "def plot_multiple_images(images, n_rows, n_cols, pad=2):\n",
    "    images = images - images.min()  # make the minimum == 0, so the padding looks white\n",
    "    w,h = images.shape[1:]\n",
    "    image = np.zeros(((w+pad)*n_rows+pad, (h+pad)*n_cols+pad))\n",
    "    for y in range(n_rows):\n",
    "        for x in range(n_cols):\n",
    "            image[(y*(h+pad)+pad):(y*(h+pad)+pad+h),(x*(w+pad)+pad):(x*(w+pad)+pad+w)] = images[y*n_cols+x]\n",
    "    \n",
    "    plt.figure(figsize=(20,10))            \n",
    "    plt.imshow(image, cmap=\"Greys\", interpolation=\"nearest\")\n",
    "    plt.axis(\"off\")"
   ]
  },
  {
   "cell_type": "code",
   "execution_count": 11,
   "metadata": {
    "slideshow": {
     "slide_type": "skip"
    }
   },
   "outputs": [],
   "source": [
    "# source: https://github.com/ageron/handson-ml\n",
    "import tensorflow as tf\n",
    "from functools import partial\n",
    "\n",
    "# Build network\n",
    "n_inputs = 28 * 28\n",
    "n_hidden1 = 300\n",
    "n_hidden2 = 150  # codings\n",
    "n_hidden3 = n_hidden1\n",
    "n_outputs = n_inputs\n",
    "\n",
    "learning_rate = 0.01\n",
    "l2_reg = 0.0001\n",
    "\n",
    "X = tf.placeholder(tf.float32, shape=[None, n_inputs])\n",
    "\n",
    "he_init = tf.contrib.layers.variance_scaling_initializer() # He initialization\n",
    "#Equivalent to:\n",
    "#he_init = lambda shape, dtype=tf.float32: tf.truncated_normal(shape, 0., stddev=np.sqrt(2/shape[0]))\n",
    "l2_regularizer = tf.contrib.layers.l2_regularizer(l2_reg)\n",
    "my_dense_layer = partial(tf.layers.dense,\n",
    "                         activation=tf.nn.elu,\n",
    "                         kernel_initializer=he_init,\n",
    "                         kernel_regularizer=l2_regularizer)\n",
    "\n",
    "hidden1 = my_dense_layer(X, n_hidden1)\n",
    "hidden2 = my_dense_layer(hidden1, n_hidden2)\n",
    "hidden3 = my_dense_layer(hidden2, n_hidden3)\n",
    "outputs = my_dense_layer(hidden3, n_outputs, activation=None)\n",
    "\n",
    "reconstruction_loss = tf.reduce_mean(tf.square(outputs - X))\n",
    "\n",
    "reg_losses = tf.get_collection(tf.GraphKeys.REGULARIZATION_LOSSES)\n",
    "loss = tf.add_n([reconstruction_loss] + reg_losses)\n",
    "\n",
    "optimizer = tf.train.AdamOptimizer(learning_rate)\n",
    "training_op = optimizer.minimize(loss)\n",
    "\n",
    "init = tf.global_variables_initializer()\n",
    "saver = tf.train.Saver() # not shown in the book"
   ]
  },
  {
   "cell_type": "code",
   "execution_count": 12,
   "metadata": {
    "slideshow": {
     "slide_type": "skip"
    }
   },
   "outputs": [
    {
     "name": "stdout",
     "output_type": "stream",
     "text": [
      "0 Train MSE: 0.0205515\n",
      "1 Train MSE: 0.0116088\n",
      "2 Train MSE: 0.0102294\n",
      "3 Train MSE: 0.00988925\n",
      "4 Train MSE: 0.0103983\n"
     ]
    }
   ],
   "source": [
    "# source: https://github.com/ageron/handson-ml\n",
    "import sys\n",
    "\n",
    "# Training\n",
    "n_epochs = 5\n",
    "batch_size = 150\n",
    "\n",
    "with tf.Session() as sess:\n",
    "    init.run()\n",
    "    for epoch in range(n_epochs):\n",
    "        n_batches = mnist.train.num_examples // batch_size\n",
    "        for iteration in range(n_batches):\n",
    "            print(\"\\r{}%\".format(100 * iteration // n_batches), end=\"\") # not shown in the book\n",
    "            sys.stdout.flush()                                          # not shown\n",
    "            X_batch, y_batch = mnist.train.next_batch(batch_size)\n",
    "            sess.run(training_op, feed_dict={X: X_batch})\n",
    "        loss_train = reconstruction_loss.eval(feed_dict={X: X_batch})   # not shown\n",
    "        print(\"\\r{}\".format(epoch), \"Train MSE:\", loss_train)           # not shown\n",
    "        saver.save(sess, \"./my_model_all_layers.ckpt\")                  # not shown\n",
    "        "
   ]
  },
  {
   "cell_type": "markdown",
   "metadata": {
    "slideshow": {
     "slide_type": "subslide"
    }
   },
   "source": [
    "### Tying Weights\n",
    "\n",
    "* When layers of **Encoder** are symmetrical to **Decoder**, weights can be shared => Tying Weights\n",
    "* Half of the weights\n",
    "    * Speed up training\n",
    "    * Limiting risk of overfitting\n",
    "\n",
    "\\begin{align}\n",
    "W_{N-L+1} = W_{L}^{T} \\text{ for } L = 1,2,3, ..., N/2\n",
    "\\end{align}"
   ]
  },
  {
   "cell_type": "markdown",
   "metadata": {
    "slideshow": {
     "slide_type": "subslide"
    }
   },
   "source": [
    "### Training One Autoencoder at a Time\n",
    "\n",
    "* Training of shallow autoencoder is faster than training stacked autoencoders at once.\n",
    "* Training is performed in phases.\n",
    "\n",
    "<center><img src=\"http://i.imgur.com/MsUDBFp.png\" /></center>"
   ]
  },
  {
   "cell_type": "code",
   "execution_count": 13,
   "metadata": {
    "slideshow": {
     "slide_type": "skip"
    }
   },
   "outputs": [],
   "source": [
    "# source: https://github.com/ageron/handson-ml\n",
    "reset_graph()\n",
    "\n",
    "n_inputs = 28 * 28\n",
    "n_hidden1 = 300\n",
    "n_hidden2 = 150  # codings\n",
    "n_hidden3 = n_hidden1\n",
    "n_outputs = n_inputs\n",
    "\n",
    "learning_rate = 0.01\n",
    "l2_reg = 0.0001\n",
    "\n",
    "activation = tf.nn.elu\n",
    "regularizer = tf.contrib.layers.l2_regularizer(l2_reg)\n",
    "initializer = tf.contrib.layers.variance_scaling_initializer()\n",
    "\n",
    "X = tf.placeholder(tf.float32, shape=[None, n_inputs])\n",
    "\n",
    "weights1_init = initializer([n_inputs, n_hidden1])\n",
    "weights2_init = initializer([n_hidden1, n_hidden2])\n",
    "weights3_init = initializer([n_hidden2, n_hidden3])\n",
    "weights4_init = initializer([n_hidden3, n_outputs])\n",
    "\n",
    "weights1 = tf.Variable(weights1_init, dtype=tf.float32, name=\"weights1\")\n",
    "weights2 = tf.Variable(weights2_init, dtype=tf.float32, name=\"weights2\")\n",
    "weights3 = tf.Variable(weights3_init, dtype=tf.float32, name=\"weights3\")\n",
    "weights4 = tf.Variable(weights4_init, dtype=tf.float32, name=\"weights4\")\n",
    "\n",
    "biases1 = tf.Variable(tf.zeros(n_hidden1), name=\"biases1\")\n",
    "biases2 = tf.Variable(tf.zeros(n_hidden2), name=\"biases2\")\n",
    "biases3 = tf.Variable(tf.zeros(n_hidden3), name=\"biases3\")\n",
    "biases4 = tf.Variable(tf.zeros(n_outputs), name=\"biases4\")\n",
    "\n",
    "hidden1 = activation(tf.matmul(X, weights1) + biases1)\n",
    "hidden2 = activation(tf.matmul(hidden1, weights2) + biases2)\n",
    "hidden3 = activation(tf.matmul(hidden2, weights3) + biases3)\n",
    "outputs = tf.matmul(hidden3, weights4) + biases4\n",
    "\n",
    "reconstruction_loss = tf.reduce_mean(tf.square(outputs - X))"
   ]
  },
  {
   "cell_type": "code",
   "execution_count": 14,
   "metadata": {
    "slideshow": {
     "slide_type": "skip"
    }
   },
   "outputs": [],
   "source": [
    "# source: https://github.com/ageron/handson-ml\n",
    "optimizer = tf.train.AdamOptimizer(learning_rate)\n",
    "\n",
    "with tf.name_scope(\"phase1\"):\n",
    "    phase1_outputs = tf.matmul(hidden1, weights4) + biases4  # bypass hidden2 and hidden3\n",
    "    phase1_reconstruction_loss = tf.reduce_mean(tf.square(phase1_outputs - X))\n",
    "    phase1_reg_loss = regularizer(weights1) + regularizer(weights4)\n",
    "    phase1_loss = phase1_reconstruction_loss + phase1_reg_loss\n",
    "    phase1_training_op = optimizer.minimize(phase1_loss)\n",
    "\n",
    "with tf.name_scope(\"phase2\"):\n",
    "    phase2_reconstruction_loss = tf.reduce_mean(tf.square(hidden3 - hidden1))\n",
    "    phase2_reg_loss = regularizer(weights2) + regularizer(weights3)\n",
    "    phase2_loss = phase2_reconstruction_loss + phase2_reg_loss\n",
    "    train_vars = [weights2, biases2, weights3, biases3]\n",
    "    phase2_training_op = optimizer.minimize(phase2_loss, var_list=train_vars) # freeze hidden1"
   ]
  },
  {
   "cell_type": "code",
   "execution_count": 15,
   "metadata": {
    "slideshow": {
     "slide_type": "skip"
    }
   },
   "outputs": [],
   "source": [
    "# source: https://github.com/ageron/handson-ml\n",
    "init = tf.global_variables_initializer()\n",
    "saver = tf.train.Saver()"
   ]
  },
  {
   "cell_type": "code",
   "execution_count": 16,
   "metadata": {
    "slideshow": {
     "slide_type": "skip"
    }
   },
   "outputs": [
    {
     "name": "stdout",
     "output_type": "stream",
     "text": [
      "Training phase #1\n",
      "0 Train MSE: 0.00762054\n",
      "1 Train MSE: 0.00776723\n",
      "2 Train MSE: 0.00805012\n",
      "3 Train MSE: 0.00775856\n",
      "Training phase #2\n",
      "0 Train MSE: 0.1795\n",
      "1 Train MSE: 0.00471309\n",
      "2 Train MSE: 0.00264256\n",
      "3 Train MSE: 0.00199579\n",
      "Test MSE: 0.00974171\n"
     ]
    }
   ],
   "source": [
    "# source: https://github.com/ageron/handson-ml\n",
    "training_ops = [phase1_training_op, phase2_training_op]\n",
    "reconstruction_losses = [phase1_reconstruction_loss, phase2_reconstruction_loss]\n",
    "n_epochs = [4, 4]\n",
    "batch_sizes = [150, 150]\n",
    "\n",
    "with tf.Session() as sess:\n",
    "    init.run()\n",
    "    for phase in range(2):\n",
    "        print(\"Training phase #{}\".format(phase + 1))\n",
    "        for epoch in range(n_epochs[phase]):\n",
    "            n_batches = mnist.train.num_examples // batch_sizes[phase]\n",
    "            for iteration in range(n_batches):\n",
    "                print(\"\\r{}%\".format(100 * iteration // n_batches), end=\"\")\n",
    "                sys.stdout.flush()\n",
    "                X_batch, y_batch = mnist.train.next_batch(batch_sizes[phase])\n",
    "                sess.run(training_ops[phase], feed_dict={X: X_batch})\n",
    "            loss_train = reconstruction_losses[phase].eval(feed_dict={X: X_batch})\n",
    "            print(\"\\r{}\".format(epoch), \"Train MSE:\", loss_train)\n",
    "            saver.save(sess, \"./my_model_one_at_a_time.ckpt\")\n",
    "    loss_test = reconstruction_loss.eval(feed_dict={X: mnist.test.images})\n",
    "    print(\"Test MSE:\", loss_test)"
   ]
  },
  {
   "cell_type": "markdown",
   "metadata": {
    "slideshow": {
     "slide_type": "subslide"
    }
   },
   "source": [
    "### Visualizing the Reconstructions"
   ]
  },
  {
   "cell_type": "code",
   "execution_count": 18,
   "metadata": {
    "slideshow": {
     "slide_type": "-"
    }
   },
   "outputs": [
    {
     "name": "stdout",
     "output_type": "stream",
     "text": [
      "INFO:tensorflow:Restoring parameters from my_model_one_at_a_time.ckpt\n"
     ]
    },
    {
     "data": {
      "image/png": "[encoded data removed]",
      "text/plain": [
       "<matplotlib.figure.Figure at 0x7fd2afa7bb38>"
      ]
     },
     "metadata": {},
     "output_type": "display_data"
    }
   ],
   "source": [
    "show_reconstructed_digits(X, outputs, model_path=\"my_model_one_at_a_time.ckpt\")"
   ]
  },
  {
   "cell_type": "markdown",
   "metadata": {
    "slideshow": {
     "slide_type": "subslide"
    }
   },
   "source": [
    "### Techniques of Visualizing Features\n",
    "\n",
    "1. Examine each neuron in every layer independently\n",
    "1. Display weights of each neuron in the first layer"
   ]
  },
  {
   "cell_type": "code",
   "execution_count": 19,
   "metadata": {
    "slideshow": {
     "slide_type": "skip"
    }
   },
   "outputs": [
    {
     "name": "stdout",
     "output_type": "stream",
     "text": [
      "INFO:tensorflow:Restoring parameters from ./my_model_one_at_a_time.ckpt\n"
     ]
    }
   ],
   "source": [
    "# source: https://github.com/ageron/handson-ml\n",
    "with tf.Session() as sess:\n",
    "    saver.restore(sess, \"./my_model_one_at_a_time.ckpt\")\n",
    "    weights1_val = weights1.eval()"
   ]
  },
  {
   "cell_type": "code",
   "execution_count": 20,
   "metadata": {
    "slideshow": {
     "slide_type": "skip"
    }
   },
   "outputs": [],
   "source": [
    "def plot_features_from_first_hidden_layer(weights):\n",
    "    plt.figure(1, figsize=(24, 12))\n",
    "    \n",
    "    for i in range(10):\n",
    "        plt.subplot(1, 10, i + 1)\n",
    "        plot_image(weights.T[i])\n",
    "\n",
    "    plt.show()"
   ]
  },
  {
   "cell_type": "code",
   "execution_count": 21,
   "metadata": {
    "scrolled": true,
    "slideshow": {
     "slide_type": "-"
    }
   },
   "outputs": [
    {
     "data": {
      "image/png": "[encoded data removed]",
      "text/plain": [
       "<matplotlib.figure.Figure at 0x7fd2af5870b8>"
      ]
     },
     "metadata": {},
     "output_type": "display_data"
    }
   ],
   "source": [
    "plot_features_from_first_hidden_layer(weights1_val)"
   ]
  },
  {
   "cell_type": "markdown",
   "metadata": {
    "slideshow": {
     "slide_type": "slide"
    }
   },
   "source": [
    "## Unsupervised Pretraining Using Stacked Autoencoders\n",
    "\n",
    "1. Train autoencoder\n",
    "1. Remove Decoder\n",
    "1. If not enough training data, freeze **Encoder** weights\n",
    "1. Train classifier on top of network\n",
    "\n",
    "<center><img src=\"http://i.imgur.com/GnfiS7O.png\" /></center>"
   ]
  },
  {
   "cell_type": "markdown",
   "metadata": {
    "slideshow": {
     "slide_type": "slide"
    }
   },
   "source": [
    "## Overcomplete Autoencoders\n",
    "\n",
    "Autoencoders with the same size (or even larger) of codings as the input layer.\n",
    "\n",
    "\n",
    "1. Denoising Autoencoders\n",
    "1. Sparse Autoencoders"
   ]
  },
  {
   "cell_type": "markdown",
   "metadata": {
    "slideshow": {
     "slide_type": "slide"
    }
   },
   "source": [
    "### Denoising Autoencoders\n",
    "\n",
    "* Added noise to its inputs.\n",
    "    * Gaussian nose\n",
    "    * Dropout layer\n",
    "* Train to recover the original, noise-free inputs.\n",
    "* Find patterns in data."
   ]
  },
  {
   "cell_type": "code",
   "execution_count": 22,
   "metadata": {
    "slideshow": {
     "slide_type": "skip"
    }
   },
   "outputs": [],
   "source": [
    "# source: https://github.com/ageron/handson-ml\n",
    "reset_graph()\n",
    "\n",
    "n_inputs = 28 * 28\n",
    "n_hidden1 = 300\n",
    "n_hidden2 = 150  # codings\n",
    "n_hidden3 = n_hidden1\n",
    "n_outputs = n_inputs\n",
    "\n",
    "learning_rate = 0.01"
   ]
  },
  {
   "cell_type": "code",
   "execution_count": 23,
   "metadata": {
    "slideshow": {
     "slide_type": "skip"
    }
   },
   "outputs": [],
   "source": [
    "# source: https://github.com/ageron/handson-ml\n",
    "noise_level = 1.0\n",
    "\n",
    "X = tf.placeholder(tf.float32, shape=[None, n_inputs])\n",
    "X_noisy = X + noise_level * tf.random_normal(tf.shape(X))\n",
    "\n",
    "hidden1 = tf.layers.dense(X_noisy, n_hidden1, activation=tf.nn.relu,\n",
    "                          name=\"hidden1\")\n",
    "hidden2 = tf.layers.dense(hidden1, n_hidden2, activation=tf.nn.relu, # not shown in the book\n",
    "                          name=\"hidden2\")                            # not shown\n",
    "hidden3 = tf.layers.dense(hidden2, n_hidden3, activation=tf.nn.relu, # not shown\n",
    "                          name=\"hidden3\")                            # not shown\n",
    "outputs = tf.layers.dense(hidden3, n_outputs, name=\"outputs\")        # not shown\n",
    "\n",
    "reconstruction_loss = tf.reduce_mean(tf.square(outputs - X)) # MSE"
   ]
  },
  {
   "cell_type": "code",
   "execution_count": 24,
   "metadata": {
    "slideshow": {
     "slide_type": "skip"
    }
   },
   "outputs": [],
   "source": [
    "# source: https://github.com/ageron/handson-ml\n",
    "optimizer = tf.train.AdamOptimizer(learning_rate)\n",
    "training_op = optimizer.minimize(reconstruction_loss)\n",
    "    \n",
    "init = tf.global_variables_initializer()\n",
    "saver = tf.train.Saver()"
   ]
  },
  {
   "cell_type": "code",
   "execution_count": 25,
   "metadata": {
    "slideshow": {
     "slide_type": "skip"
    }
   },
   "outputs": [
    {
     "name": "stdout",
     "output_type": "stream",
     "text": [
      "0 Train MSE: 0.0460712\n",
      "1 Train MSE: 0.0442514\n",
      "2 Train MSE: 0.0418304\n",
      "3 Train MSE: 0.0455278\n",
      "4 Train MSE: 0.0444649\n",
      "5 Train MSE: 0.0441597\n",
      "6 Train MSE: 0.0437354\n",
      "7 Train MSE: 0.0437799\n",
      "8 Train MSE: 0.042845\n",
      "9 Train MSE: 0.0444284\n"
     ]
    }
   ],
   "source": [
    "# source: https://github.com/ageron/handson-ml\n",
    "n_epochs = 10\n",
    "batch_size = 150\n",
    "\n",
    "with tf.Session() as sess:\n",
    "    init.run()\n",
    "    for epoch in range(n_epochs):\n",
    "        n_batches = mnist.train.num_examples // batch_size\n",
    "        for iteration in range(n_batches):\n",
    "            print(\"\\r{}%\".format(100 * iteration // n_batches), end=\"\")\n",
    "            sys.stdout.flush()\n",
    "            X_batch, y_batch = mnist.train.next_batch(batch_size)\n",
    "            sess.run(training_op, feed_dict={X: X_batch})\n",
    "        loss_train = reconstruction_loss.eval(feed_dict={X: X_batch})\n",
    "        print(\"\\r{}\".format(epoch), \"Train MSE:\", loss_train)\n",
    "        saver.save(sess, \"./my_model_stacked_denoising_gaussian.ckpt\")"
   ]
  },
  {
   "cell_type": "code",
   "execution_count": 26,
   "metadata": {
    "slideshow": {
     "slide_type": "skip"
    }
   },
   "outputs": [],
   "source": [
    "def show_denoising_autoencoder_results(X, outputs):\n",
    "    show_reconstructed_digits(X, outputs, model_path = \"./my_model_stacked_denoising_gaussian.ckpt\", n_test_digits = 2)"
   ]
  },
  {
   "cell_type": "markdown",
   "metadata": {
    "slideshow": {
     "slide_type": "subslide"
    }
   },
   "source": [
    "### Reconstructions From Denoising Autoencoder"
   ]
  },
  {
   "cell_type": "code",
   "execution_count": 27,
   "metadata": {
    "scrolled": false,
    "slideshow": {
     "slide_type": "-"
    }
   },
   "outputs": [
    {
     "name": "stdout",
     "output_type": "stream",
     "text": [
      "INFO:tensorflow:Restoring parameters from ./my_model_stacked_denoising_gaussian.ckpt\n"
     ]
    },
    {
     "data": {
      "image/png": "[encoded data removed]",
      "text/plain": [
       "<matplotlib.figure.Figure at 0x7fd2acde0ac8>"
      ]
     },
     "metadata": {},
     "output_type": "display_data"
    }
   ],
   "source": [
    "show_denoising_autoencoder_results(X, outputs)"
   ]
  },
  {
   "cell_type": "code",
   "execution_count": 28,
   "metadata": {
    "slideshow": {
     "slide_type": "skip"
    }
   },
   "outputs": [],
   "source": [
    "def plot_noisy_inputs(X, X_noisy):\n",
    "    show_reconstructed_digits(X, X_noisy, model_path = \"./my_model_stacked_denoising_gaussian.ckpt\", n_test_digits = 2)"
   ]
  },
  {
   "cell_type": "markdown",
   "metadata": {
    "slideshow": {
     "slide_type": "subslide"
    }
   },
   "source": [
    "### Noisy Inputs"
   ]
  },
  {
   "cell_type": "code",
   "execution_count": 29,
   "metadata": {
    "scrolled": false
   },
   "outputs": [
    {
     "name": "stdout",
     "output_type": "stream",
     "text": [
      "INFO:tensorflow:Restoring parameters from ./my_model_stacked_denoising_gaussian.ckpt\n"
     ]
    },
    {
     "data": {
      "image/png": "[encoded data removed]",
      "text/plain": [
       "<matplotlib.figure.Figure at 0x7fd2acbc6c18>"
      ]
     },
     "metadata": {},
     "output_type": "display_data"
    }
   ],
   "source": [
    "plot_noisy_inputs(X, X_noisy)"
   ]
  },
  {
   "cell_type": "markdown",
   "metadata": {
    "slideshow": {
     "slide_type": "slide"
    }
   },
   "source": [
    "### Sparse Autoencoders\n",
    "\n",
    "* Loss function involves **sparsity penalty** on the coding layer.\n",
    "* Used to learn features for another task such as classification.\n",
    "* Represent each input as a combination of **small** number of activations.\n",
    "\n",
    "\\begin{align}\n",
    "L(\\boldsymbol{x}, g(f(\\boldsymbol{\\widetilde{x}}))) + \\lambda\\Omega(\\boldsymbol{h}), \\text{ where } \\boldsymbol{h} = f(\\boldsymbol{\\widetilde{x}})\n",
    "\\end{align}"
   ]
  },
  {
   "cell_type": "markdown",
   "metadata": {
    "slideshow": {
     "slide_type": "subslide"
    }
   },
   "source": [
    "#### Sparsity of Coding Layer\n",
    "\n",
    "1. Decide target sparsity (e.g. 0.1).\n",
    "1. Compute average activation of each neuron in the coding layer, over the whole training batch. \n",
    "    * *sigmoid* activation\n",
    "    * `tf.reduce_mean(hidden1, axis=0)`\n",
    "1. Compute Kullback-Leibler divergence (stronger gradients than for example MSE).\n",
    "\n",
    "\\begin{align}\n",
    "D_{KL}(P || Q) = \\sum_{i}{P(i) \\log{\\frac{P(i)}{Q(i)}}}\n",
    "\\end{align}\n",
    "\n",
    "<center><img src=\"http://i.imgur.com/FvPu8MN.png\" /></center>"
   ]
  },
  {
   "cell_type": "code",
   "execution_count": 30,
   "metadata": {
    "slideshow": {
     "slide_type": "skip"
    }
   },
   "outputs": [],
   "source": [
    "# source: https://github.com/ageron/handson-ml\n",
    "reset_graph()\n",
    "\n",
    "n_inputs = 28 * 28\n",
    "n_hidden1 = 1000  # sparse codings\n",
    "n_outputs = n_inputs"
   ]
  },
  {
   "cell_type": "code",
   "execution_count": 31,
   "metadata": {
    "slideshow": {
     "slide_type": "skip"
    }
   },
   "outputs": [],
   "source": [
    "# source: https://github.com/ageron/handson-ml\n",
    "def kl_divergence(p, q):\n",
    "    # Kullback Leibler divergence\n",
    "    return p * tf.log(p / q) + (1 - p) * tf.log((1 - p) / (1 - q))\n",
    "\n",
    "learning_rate = 0.01\n",
    "sparsity_target = 0.1\n",
    "sparsity_weight = 0.2\n",
    "\n",
    "X = tf.placeholder(tf.float32, shape=[None, n_inputs])            # not shown in the book\n",
    "\n",
    "hidden1 = tf.layers.dense(X, n_hidden1, activation=tf.nn.sigmoid) # not shown\n",
    "outputs = tf.layers.dense(hidden1, n_outputs)                     # not shown\n",
    "\n",
    "hidden1_mean = tf.reduce_mean(hidden1, axis=0) # batch mean\n",
    "sparsity_loss = tf.reduce_sum(kl_divergence(sparsity_target, hidden1_mean))\n",
    "reconstruction_loss = tf.reduce_mean(tf.square(outputs - X)) # MSE\n",
    "loss = reconstruction_loss + sparsity_weight * sparsity_loss\n",
    "\n",
    "optimizer = tf.train.AdamOptimizer(learning_rate)\n",
    "training_op = optimizer.minimize(loss)"
   ]
  },
  {
   "cell_type": "code",
   "execution_count": 32,
   "metadata": {
    "slideshow": {
     "slide_type": "skip"
    }
   },
   "outputs": [],
   "source": [
    "# source: https://github.com/ageron/handson-ml\n",
    "init = tf.global_variables_initializer()\n",
    "saver = tf.train.Saver()"
   ]
  },
  {
   "cell_type": "code",
   "execution_count": 33,
   "metadata": {
    "slideshow": {
     "slide_type": "skip"
    }
   },
   "outputs": [
    {
     "name": "stdout",
     "output_type": "stream",
     "text": [
      "0 Train MSE: 0.130906 \tSparsity loss: 0.299188 \tTotal loss: 0.190744\n",
      "1 Train MSE: 0.059971 \tSparsity loss: 0.0348102 \tTotal loss: 0.066933\n",
      "2 Train MSE: 0.0536859 \tSparsity loss: 0.122933 \tTotal loss: 0.0782726\n",
      "3 Train MSE: 0.046701 \tSparsity loss: 0.12961 \tTotal loss: 0.0726229\n",
      "4 Train MSE: 0.0447387 \tSparsity loss: 0.223333 \tTotal loss: 0.0894054\n",
      "5 Train MSE: 0.0409566 \tSparsity loss: 0.25981 \tTotal loss: 0.0929186\n",
      "6 Train MSE: 0.0387818 \tSparsity loss: 0.0102256 \tTotal loss: 0.040827\n",
      "7 Train MSE: 0.0359859 \tSparsity loss: 0.0425175 \tTotal loss: 0.0444894\n",
      "8 Train MSE: 0.0336859 \tSparsity loss: 0.0189908 \tTotal loss: 0.037484\n",
      "9 Train MSE: 0.0298078 \tSparsity loss: 0.185499 \tTotal loss: 0.0669075\n",
      "10 Train MSE: 0.0280391 \tSparsity loss: 0.0429563 \tTotal loss: 0.0366303\n",
      "11 Train MSE: 0.0250753 \tSparsity loss: 0.0186336 \tTotal loss: 0.0288021\n",
      "12 Train MSE: 0.0232507 \tSparsity loss: 0.116723 \tTotal loss: 0.0465952\n",
      "13 Train MSE: 0.0223116 \tSparsity loss: 0.228848 \tTotal loss: 0.0680811\n",
      "14 Train MSE: 0.0204759 \tSparsity loss: 0.0431298 \tTotal loss: 0.0291018\n",
      "15 Train MSE: 0.0205031 \tSparsity loss: 0.187521 \tTotal loss: 0.0580073\n",
      "16 Train MSE: 0.0191314 \tSparsity loss: 0.0438453 \tTotal loss: 0.0279005\n",
      "17 Train MSE: 0.0185395 \tSparsity loss: 0.148751 \tTotal loss: 0.0482897\n",
      "18 Train MSE: 0.0191138 \tSparsity loss: 0.0582181 \tTotal loss: 0.0307575\n",
      "19 Train MSE: 0.0186188 \tSparsity loss: 0.0608686 \tTotal loss: 0.0307925\n",
      "20 Train MSE: 0.0177316 \tSparsity loss: 0.116583 \tTotal loss: 0.0410481\n",
      "21 Train MSE: 0.016585 \tSparsity loss: 0.0369508 \tTotal loss: 0.0239752\n",
      "22 Train MSE: 0.0166295 \tSparsity loss: 0.170555 \tTotal loss: 0.0507404\n",
      "23 Train MSE: 0.0157479 \tSparsity loss: 0.146721 \tTotal loss: 0.0450921\n",
      "24 Train MSE: 0.0149741 \tSparsity loss: 0.049249 \tTotal loss: 0.0248239\n",
      "25 Train MSE: 0.0155338 \tSparsity loss: 0.0367797 \tTotal loss: 0.0228897\n",
      "26 Train MSE: 0.0153957 \tSparsity loss: 0.0680171 \tTotal loss: 0.0289991\n",
      "27 Train MSE: 0.0143192 \tSparsity loss: 0.0487923 \tTotal loss: 0.0240777\n",
      "28 Train MSE: 0.0142744 \tSparsity loss: 0.0683828 \tTotal loss: 0.027951\n",
      "29 Train MSE: 0.0138321 \tSparsity loss: 0.160096 \tTotal loss: 0.0458513\n",
      "30 Train MSE: 0.0140369 \tSparsity loss: 0.10744 \tTotal loss: 0.0355249\n",
      "31 Train MSE: 0.0141627 \tSparsity loss: 0.228077 \tTotal loss: 0.0597782\n",
      "32 Train MSE: 0.0137151 \tSparsity loss: 0.0914135 \tTotal loss: 0.0319978\n",
      "33 Train MSE: 0.0135002 \tSparsity loss: 0.07175 \tTotal loss: 0.0278502\n",
      "34 Train MSE: 0.0131896 \tSparsity loss: 0.0412584 \tTotal loss: 0.0214413\n",
      "35 Train MSE: 0.0133704 \tSparsity loss: 0.0888496 \tTotal loss: 0.0311404\n",
      "36 Train MSE: 0.0131214 \tSparsity loss: 0.0471467 \tTotal loss: 0.0225507\n",
      "37 Train MSE: 0.015733 \tSparsity loss: 0.12528 \tTotal loss: 0.0407889\n",
      "38 Train MSE: 0.0123853 \tSparsity loss: 0.287008 \tTotal loss: 0.0697869\n",
      "39 Train MSE: 0.0135564 \tSparsity loss: 0.200453 \tTotal loss: 0.0536469\n",
      "40 Train MSE: 0.0121804 \tSparsity loss: 0.113054 \tTotal loss: 0.0347911\n",
      "41 Train MSE: 0.0121585 \tSparsity loss: 0.0689233 \tTotal loss: 0.0259431\n",
      "42 Train MSE: 0.0137954 \tSparsity loss: 0.33479 \tTotal loss: 0.0807534\n",
      "43 Train MSE: 0.0133774 \tSparsity loss: 0.064122 \tTotal loss: 0.0262018\n",
      "44 Train MSE: 0.0114023 \tSparsity loss: 0.0674012 \tTotal loss: 0.0248825\n",
      "45 Train MSE: 0.012021 \tSparsity loss: 0.0846658 \tTotal loss: 0.0289542\n",
      "46 Train MSE: 0.0116946 \tSparsity loss: 0.0677807 \tTotal loss: 0.0252507\n",
      "47 Train MSE: 0.0120997 \tSparsity loss: 0.0988194 \tTotal loss: 0.0318636\n",
      "48 Train MSE: 0.011667 \tSparsity loss: 0.11425 \tTotal loss: 0.0345169\n",
      "49 Train MSE: 0.0137088 \tSparsity loss: 0.516872 \tTotal loss: 0.117083\n",
      "50 Train MSE: 0.0123425 \tSparsity loss: 0.19882 \tTotal loss: 0.0521065\n",
      "51 Train MSE: 0.0120271 \tSparsity loss: 0.0687951 \tTotal loss: 0.0257862\n",
      "52 Train MSE: 0.0129669 \tSparsity loss: 0.241153 \tTotal loss: 0.0611975\n",
      "53 Train MSE: 0.0128159 \tSparsity loss: 0.110939 \tTotal loss: 0.0350037\n",
      "54 Train MSE: 0.0121751 \tSparsity loss: 0.101698 \tTotal loss: 0.0325147\n",
      "55 Train MSE: 0.0108817 \tSparsity loss: 0.124269 \tTotal loss: 0.0357356\n",
      "56 Train MSE: 0.0111481 \tSparsity loss: 0.0842913 \tTotal loss: 0.0280064\n",
      "57 Train MSE: 0.0114353 \tSparsity loss: 0.171231 \tTotal loss: 0.0456816\n",
      "58 Train MSE: 0.0116725 \tSparsity loss: 0.150118 \tTotal loss: 0.0416961\n",
      "59 Train MSE: 0.0108812 \tSparsity loss: 0.093422 \tTotal loss: 0.0295656\n",
      "60 Train MSE: 0.0126104 \tSparsity loss: 0.304531 \tTotal loss: 0.0735165\n",
      "61 Train MSE: 0.0124278 \tSparsity loss: 0.538138 \tTotal loss: 0.120055\n",
      "62 Train MSE: 0.0115 \tSparsity loss: 0.117525 \tTotal loss: 0.035005\n",
      "63 Train MSE: 0.0121786 \tSparsity loss: 0.344458 \tTotal loss: 0.0810702\n",
      "64 Train MSE: 0.0112092 \tSparsity loss: 0.203792 \tTotal loss: 0.0519676\n",
      "65 Train MSE: 0.0118173 \tSparsity loss: 0.106396 \tTotal loss: 0.0330966\n",
      "66 Train MSE: 0.0140427 \tSparsity loss: 0.228777 \tTotal loss: 0.0597981\n",
      "67 Train MSE: 0.0115844 \tSparsity loss: 0.16218 \tTotal loss: 0.0440203\n",
      "68 Train MSE: 0.0116113 \tSparsity loss: 0.140483 \tTotal loss: 0.0397079\n",
      "69 Train MSE: 0.0113327 \tSparsity loss: 0.258995 \tTotal loss: 0.0631317\n",
      "70 Train MSE: 0.0219742 \tSparsity loss: 0.295814 \tTotal loss: 0.0811371\n",
      "71 Train MSE: 0.0112824 \tSparsity loss: 0.147147 \tTotal loss: 0.0407118\n",
      "72 Train MSE: 0.0128855 \tSparsity loss: 0.357347 \tTotal loss: 0.0843549\n",
      "73 Train MSE: 0.0497302 \tSparsity loss: 0.232705 \tTotal loss: 0.0962712\n",
      "74 Train MSE: 0.0128172 \tSparsity loss: 0.383806 \tTotal loss: 0.0895785\n",
      "75 Train MSE: 0.0120986 \tSparsity loss: 0.234967 \tTotal loss: 0.059092\n",
      "76 Train MSE: 0.0121987 \tSparsity loss: 0.13121 \tTotal loss: 0.0384406\n",
      "77 Train MSE: 0.0143835 \tSparsity loss: 0.223677 \tTotal loss: 0.0591189\n",
      "78 Train MSE: 0.0139243 \tSparsity loss: 0.437922 \tTotal loss: 0.101509\n",
      "79 Train MSE: 0.0392993 \tSparsity loss: 0.531385 \tTotal loss: 0.145576\n",
      "80 Train MSE: 0.0224462 \tSparsity loss: 0.216849 \tTotal loss: 0.0658161\n",
      "81 Train MSE: 0.0157047 \tSparsity loss: 0.428387 \tTotal loss: 0.101382\n",
      "82 Train MSE: 0.039022 \tSparsity loss: 0.610171 \tTotal loss: 0.161056\n",
      "83 Train MSE: 0.0124596 \tSparsity loss: 0.255359 \tTotal loss: 0.0635314\n",
      "84 Train MSE: 0.014695 \tSparsity loss: 0.201802 \tTotal loss: 0.0550553\n",
      "85 Train MSE: 0.0123642 \tSparsity loss: 0.1742 \tTotal loss: 0.0472043\n",
      "86 Train MSE: 0.0226045 \tSparsity loss: 0.154852 \tTotal loss: 0.0535749\n",
      "87 Train MSE: 0.0134074 \tSparsity loss: 0.154162 \tTotal loss: 0.0442398\n",
      "88 Train MSE: 0.0187739 \tSparsity loss: 0.104416 \tTotal loss: 0.0396571\n",
      "89 Train MSE: 0.0256803 \tSparsity loss: 0.234901 \tTotal loss: 0.0726605\n",
      "90 Train MSE: 0.0294816 \tSparsity loss: 0.609583 \tTotal loss: 0.151398\n",
      "91 Train MSE: 0.0201794 \tSparsity loss: 0.205515 \tTotal loss: 0.0612823\n",
      "92 Train MSE: 0.0210183 \tSparsity loss: 0.356721 \tTotal loss: 0.0923625\n",
      "93 Train MSE: 0.015073 \tSparsity loss: 0.206793 \tTotal loss: 0.0564317\n",
      "94 Train MSE: 0.0247104 \tSparsity loss: 0.408261 \tTotal loss: 0.106363\n",
      "95 Train MSE: 0.0149552 \tSparsity loss: 0.192078 \tTotal loss: 0.0533709\n",
      "96 Train MSE: 0.0150525 \tSparsity loss: 0.432036 \tTotal loss: 0.10146\n",
      "97 Train MSE: 0.0140004 \tSparsity loss: 0.191141 \tTotal loss: 0.0522287\n",
      "98 Train MSE: 0.0188966 \tSparsity loss: 0.273815 \tTotal loss: 0.0736595\n",
      "99 Train MSE: 0.0128615 \tSparsity loss: 0.201433 \tTotal loss: 0.0531481\n"
     ]
    }
   ],
   "source": [
    "# source: https://github.com/ageron/handson-ml\n",
    "n_epochs = 100\n",
    "batch_size = 1000\n",
    "\n",
    "with tf.Session() as sess:\n",
    "    init.run()\n",
    "    for epoch in range(n_epochs):\n",
    "        n_batches = mnist.train.num_examples // batch_size\n",
    "        for iteration in range(n_batches):\n",
    "            print(\"\\r{}%\".format(100 * iteration // n_batches), end=\"\")\n",
    "            sys.stdout.flush()\n",
    "            X_batch, y_batch = mnist.train.next_batch(batch_size)\n",
    "            sess.run(training_op, feed_dict={X: X_batch})\n",
    "        reconstruction_loss_val, sparsity_loss_val, loss_val = sess.run([reconstruction_loss, sparsity_loss, loss], feed_dict={X: X_batch})\n",
    "        print(\"\\r{}\".format(epoch), \"Train MSE:\", reconstruction_loss_val, \"\\tSparsity loss:\", sparsity_loss_val, \"\\tTotal loss:\", loss_val)\n",
    "        saver.save(sess, \"./my_model_sparse.ckpt\")"
   ]
  },
  {
   "cell_type": "code",
   "execution_count": 34,
   "metadata": {
    "slideshow": {
     "slide_type": "skip"
    }
   },
   "outputs": [],
   "source": [
    "def show_sparse_autoencoder_results(X, outputs):\n",
    "    show_reconstructed_digits(X, outputs, model_path = \"./my_model_sparse.ckpt\", n_test_digits = 2)"
   ]
  },
  {
   "cell_type": "markdown",
   "metadata": {
    "slideshow": {
     "slide_type": "slide"
    }
   },
   "source": [
    "### Reconstructions From Sparse Autoencoder\n",
    "\n",
    "* 3 layers\n",
    "* 1,000 coding neurons\n",
    "\n",
    "```python\n",
    "sparsity_target = 0.1\n",
    "sparsity_weight = 0.2\n",
    "n_epochs = 100\n",
    "batch_size = 1000\n",
    "```"
   ]
  },
  {
   "cell_type": "code",
   "execution_count": 35,
   "metadata": {
    "scrolled": false,
    "slideshow": {
     "slide_type": "-"
    }
   },
   "outputs": [
    {
     "name": "stdout",
     "output_type": "stream",
     "text": [
      "INFO:tensorflow:Restoring parameters from ./my_model_sparse.ckpt\n"
     ]
    },
    {
     "data": {
      "image/png": "[encoded data removed]",
      "text/plain": [
       "<matplotlib.figure.Figure at 0x7fd2acc12b38>"
      ]
     },
     "metadata": {},
     "output_type": "display_data"
    }
   ],
   "source": [
    "show_sparse_autoencoder_results(X, outputs)"
   ]
  },
  {
   "cell_type": "markdown",
   "metadata": {
    "slideshow": {
     "slide_type": "slide"
    }
   },
   "source": [
    "### Variational Autoencoders\n",
    "\n",
    "* Probabilistic \n",
    "    * Outputs are partly determined by chance.\n",
    "* Generative\n",
    "    * Generate new instances that are similar to the one in the training dataset.\n",
    "    \n",
    "Similar to [Restricted Boltzmann Machines](https://en.wikipedia.org/wiki/Restricted_Boltzmann_machine)."
   ]
  },
  {
   "cell_type": "markdown",
   "metadata": {
    "slideshow": {
     "slide_type": "subslide"
    }
   },
   "source": [
    "#### Coding Generation\n",
    "\n",
    "1. Encoder produces mean $\\mu$ and standard deviation $\\sigma$ of coding.\n",
    "1. Coding is then sampled from Gaussian distribution.\n",
    "1. `Loss = Reconstruction loss + Latent loss`\n",
    "\n",
    "```python\n",
    "hidden3_mean = my_dense_layer(hidden2, n_hidden3, activation=None)\n",
    "hidden3_gamma = my_dense_layer(hidden2, n_hidden3, activation=None)\n",
    "noise = tf.random_normal(tf.shape(hidden3_gamma), dtype=tf.float32)\n",
    "#hidden3 = hidden3_mean + hidden3_gamma * noise\n",
    "hidden3 = hidden3_mean + tf.exp(0.5 * hidden3_gamma) * noise\n",
    "```"
   ]
  },
  {
   "cell_type": "code",
   "execution_count": 36,
   "metadata": {
    "slideshow": {
     "slide_type": "skip"
    }
   },
   "outputs": [],
   "source": [
    "# source: https://github.com/ageron/handson-ml\n",
    "reset_graph()\n",
    "\n",
    "from functools import partial\n",
    "\n",
    "n_inputs = 28 * 28\n",
    "n_hidden1 = 500\n",
    "n_hidden2 = 500\n",
    "n_hidden3 = 20  # codings\n",
    "n_hidden4 = n_hidden2\n",
    "n_hidden5 = n_hidden1\n",
    "n_outputs = n_inputs\n",
    "learning_rate = 0.001\n",
    "\n",
    "initializer = tf.contrib.layers.variance_scaling_initializer()\n",
    "my_dense_layer = partial(\n",
    "    tf.layers.dense,\n",
    "    activation=tf.nn.elu,\n",
    "    kernel_initializer=initializer)\n",
    "\n",
    "X = tf.placeholder(tf.float32, [None, n_inputs])\n",
    "hidden1 = my_dense_layer(X, n_hidden1)\n",
    "hidden2 = my_dense_layer(hidden1, n_hidden2)\n",
    "hidden3_mean = my_dense_layer(hidden2, n_hidden3, activation=None)\n",
    "hidden3_gamma = my_dense_layer(hidden2, n_hidden3, activation=None)\n",
    "noise = tf.random_normal(tf.shape(hidden3_gamma), dtype=tf.float32)\n",
    "hidden3 = hidden3_mean + tf.exp(0.5 * hidden3_gamma) * noise\n",
    "hidden4 = my_dense_layer(hidden3, n_hidden4)\n",
    "hidden5 = my_dense_layer(hidden4, n_hidden5)\n",
    "logits = my_dense_layer(hidden5, n_outputs, activation=None)\n",
    "outputs = tf.sigmoid(logits)\n",
    "\n",
    "xentropy = tf.nn.sigmoid_cross_entropy_with_logits(labels=X, logits=logits)\n",
    "reconstruction_loss = tf.reduce_sum(xentropy)\n",
    "latent_loss = 0.5 * tf.reduce_sum(\n",
    "    tf.exp(hidden3_gamma) + tf.square(hidden3_mean) - 1 - hidden3_gamma)\n",
    "loss = reconstruction_loss + latent_loss\n",
    "\n",
    "optimizer = tf.train.AdamOptimizer(learning_rate=learning_rate)\n",
    "training_op = optimizer.minimize(loss)\n",
    "\n",
    "init = tf.global_variables_initializer()\n",
    "saver = tf.train.Saver()"
   ]
  },
  {
   "cell_type": "code",
   "execution_count": 37,
   "metadata": {
    "slideshow": {
     "slide_type": "skip"
    }
   },
   "outputs": [
    {
     "name": "stdout",
     "output_type": "stream",
     "text": [
      "0 Train total loss: 18420.8 \tReconstruction loss: 14701.2 \tLatent loss: 3719.64\n",
      "1 Train total loss: 16924.1 \tReconstruction loss: 13122.8 \tLatent loss: 3801.27\n",
      "2 Train total loss: 16729.6 \tReconstruction loss: 12926.4 \tLatent loss: 3803.19\n",
      "3 Train total loss: 15896.8 \tReconstruction loss: 12147.7 \tLatent loss: 3749.15\n",
      "4 Train total loss: 16158.8 \tReconstruction loss: 12375.0 \tLatent loss: 3783.85\n",
      "5 Train total loss: 15926.9 \tReconstruction loss: 12105.5 \tLatent loss: 3821.34\n",
      "6 Train total loss: 15820.5 \tReconstruction loss: 11957.1 \tLatent loss: 3863.39\n",
      "7 Train total loss: 16284.2 \tReconstruction loss: 12415.9 \tLatent loss: 3868.38\n",
      "8 Train total loss: 15365.3 \tReconstruction loss: 11590.3 \tLatent loss: 3774.97\n",
      "9 Train total loss: 15316.8 \tReconstruction loss: 11558.7 \tLatent loss: 3758.09\n",
      "10 Train total loss: 15759.6 \tReconstruction loss: 11974.7 \tLatent loss: 3784.95\n",
      "11 Train total loss: 15675.3 \tReconstruction loss: 11779.0 \tLatent loss: 3896.33\n",
      "12 Train total loss: 15994.3 \tReconstruction loss: 12083.7 \tLatent loss: 3910.59\n",
      "13 Train total loss: 15124.0 \tReconstruction loss: 11483.9 \tLatent loss: 3640.15\n",
      "14 Train total loss: 15869.0 \tReconstruction loss: 11920.0 \tLatent loss: 3949.02\n",
      "15 Train total loss: 15853.4 \tReconstruction loss: 11973.5 \tLatent loss: 3879.9\n",
      "16 Train total loss: 15444.9 \tReconstruction loss: 11742.3 \tLatent loss: 3702.62\n",
      "17 Train total loss: 15624.1 \tReconstruction loss: 11684.1 \tLatent loss: 3939.94\n",
      "18 Train total loss: 16068.9 \tReconstruction loss: 12175.6 \tLatent loss: 3893.27\n",
      "19 Train total loss: 15151.3 \tReconstruction loss: 11434.6 \tLatent loss: 3716.64\n",
      "20 Train total loss: 15343.6 \tReconstruction loss: 11540.9 \tLatent loss: 3802.72\n",
      "21 Train total loss: 14739.5 \tReconstruction loss: 11007.0 \tLatent loss: 3732.46\n",
      "22 Train total loss: 14819.4 \tReconstruction loss: 11104.2 \tLatent loss: 3715.22\n",
      "23 Train total loss: 15540.9 \tReconstruction loss: 11669.6 \tLatent loss: 3871.3\n",
      "24 Train total loss: 14597.9 \tReconstruction loss: 10867.8 \tLatent loss: 3730.12\n",
      "25 Train total loss: 15218.1 \tReconstruction loss: 11353.6 \tLatent loss: 3864.46\n",
      "26 Train total loss: 14545.3 \tReconstruction loss: 10846.1 \tLatent loss: 3699.18\n",
      "27 Train total loss: 15047.1 \tReconstruction loss: 11335.1 \tLatent loss: 3712.03\n",
      "28 Train total loss: 15576.3 \tReconstruction loss: 11817.8 \tLatent loss: 3758.5\n",
      "29 Train total loss: 15105.7 \tReconstruction loss: 11508.7 \tLatent loss: 3597.05\n",
      "30 Train total loss: 15108.1 \tReconstruction loss: 11354.1 \tLatent loss: 3754.02\n",
      "31 Train total loss: 14730.9 \tReconstruction loss: 11033.8 \tLatent loss: 3697.17\n",
      "32 Train total loss: 15068.5 \tReconstruction loss: 11315.9 \tLatent loss: 3752.63\n",
      "33 Train total loss: 15443.3 \tReconstruction loss: 11697.9 \tLatent loss: 3745.34\n",
      "34 Train total loss: 14695.0 \tReconstruction loss: 11029.8 \tLatent loss: 3665.26\n",
      "35 Train total loss: 15092.9 \tReconstruction loss: 11297.5 \tLatent loss: 3795.4\n",
      "36 Train total loss: 14713.5 \tReconstruction loss: 10992.0 \tLatent loss: 3721.43\n",
      "37 Train total loss: 15110.1 \tReconstruction loss: 11377.9 \tLatent loss: 3732.17\n",
      "38 Train total loss: 14945.2 \tReconstruction loss: 11196.4 \tLatent loss: 3748.82\n",
      "39 Train total loss: 15273.0 \tReconstruction loss: 11630.8 \tLatent loss: 3642.16\n",
      "40 Train total loss: 14523.2 \tReconstruction loss: 10854.6 \tLatent loss: 3668.53\n",
      "41 Train total loss: 14692.6 \tReconstruction loss: 10998.3 \tLatent loss: 3694.33\n",
      "42 Train total loss: 14758.1 \tReconstruction loss: 11132.1 \tLatent loss: 3626.01\n",
      "43 Train total loss: 14504.9 \tReconstruction loss: 10797.2 \tLatent loss: 3707.73\n",
      "44 Train total loss: 14732.7 \tReconstruction loss: 11076.7 \tLatent loss: 3655.99\n",
      "45 Train total loss: 14592.1 \tReconstruction loss: 10884.1 \tLatent loss: 3708.0\n",
      "46 Train total loss: 14773.4 \tReconstruction loss: 11104.5 \tLatent loss: 3668.94\n",
      "47 Train total loss: 14738.7 \tReconstruction loss: 11101.5 \tLatent loss: 3637.25\n",
      "48 Train total loss: 14703.1 \tReconstruction loss: 10984.3 \tLatent loss: 3718.84\n",
      "49 Train total loss: 14503.5 \tReconstruction loss: 10834.8 \tLatent loss: 3668.78\n"
     ]
    }
   ],
   "source": [
    "# source: https://github.com/ageron/handson-ml\n",
    "import numpy as np\n",
    "import sys\n",
    "\n",
    "n_digits = 60\n",
    "n_epochs = 50\n",
    "batch_size = 150\n",
    "\n",
    "with tf.Session() as sess:\n",
    "    init.run()\n",
    "    for epoch in range(n_epochs):\n",
    "        n_batches = mnist.train.num_examples // batch_size\n",
    "        for iteration in range(n_batches):\n",
    "            print(\"\\r{}%\".format(100 * iteration // n_batches), end=\"\") # not shown in the book\n",
    "            sys.stdout.flush()                                          # not shown\n",
    "            X_batch, y_batch = mnist.train.next_batch(batch_size)\n",
    "            sess.run(training_op, feed_dict={X: X_batch})\n",
    "        loss_val, reconstruction_loss_val, latent_loss_val = sess.run([loss, reconstruction_loss, latent_loss], feed_dict={X: X_batch}) # not shown\n",
    "        print(\"\\r{}\".format(epoch), \"Train total loss:\", loss_val, \"\\tReconstruction loss:\", reconstruction_loss_val, \"\\tLatent loss:\", latent_loss_val)  # not shown\n",
    "        saver.save(sess, \"./my_model_variational.ckpt\")  # not shown\n",
    "    \n",
    "    codings_rnd = np.random.normal(size=[n_digits, n_hidden3])\n",
    "    outputs_val = outputs.eval(feed_dict={hidden3: codings_rnd})"
   ]
  },
  {
   "cell_type": "markdown",
   "metadata": {
    "slideshow": {
     "slide_type": "slide"
    }
   },
   "source": [
    "#### Generated Digits"
   ]
  },
  {
   "cell_type": "code",
   "execution_count": 38,
   "metadata": {
    "slideshow": {
     "slide_type": "skip"
    }
   },
   "outputs": [],
   "source": [
    "def generate_digits():\n",
    "    n_rows = 6\n",
    "    n_cols = 10\n",
    "    plot_multiple_images(outputs_val.reshape(-1, 28, 28), n_rows, n_cols)\n",
    "    plt.show()"
   ]
  },
  {
   "cell_type": "code",
   "execution_count": 39,
   "metadata": {
    "scrolled": false
   },
   "outputs": [
    {
     "data": {
      "image/png": "[encoded data removed]",
      "text/plain": [
       "<matplotlib.figure.Figure at 0x7fd2ac95d0b8>"
      ]
     },
     "metadata": {},
     "output_type": "display_data"
    }
   ],
   "source": [
    "generate_digits()"
   ]
  },
  {
   "cell_type": "markdown",
   "metadata": {
    "slideshow": {
     "slide_type": "slide"
    }
   },
   "source": [
    "## Other Autoencoders\n",
    "\n",
    "* Contractive Autoencoders\n",
    "    * two similar inputs have similar condings\n",
    "* Stacked Convolutional Autoencoders\n",
    "* Generative Stochastic Network\n",
    "    * denoising autoencoders with added capability to generate data\n",
    "* Winner-take-all Autoencoder\n",
    "    * only top $k%$ activations is preserved, leads to sparse coding\n",
    "* Adversial Autoencoders\n",
    "    * two networks\n",
    "    * one is trained to reproduce its inputs\n",
    "    * the other one find inputs that the first network cannot reconstruct properly"
   ]
  }
 ],
 "metadata": {
  "celltoolbar": "Slideshow",
  "kernelspec": {
   "display_name": "Python 3",
   "language": "python",
   "name": "python3"
  },
  "language_info": {
   "codemirror_mode": {
    "name": "ipython",
    "version": 3
   },
   "file_extension": ".py",
   "mimetype": "text/x-python",
   "name": "python",
   "nbconvert_exporter": "python",
   "pygments_lexer": "ipython3",
   "version": "3.5.2"
  }
 },
 "nbformat": 4,
 "nbformat_minor": 2
}
